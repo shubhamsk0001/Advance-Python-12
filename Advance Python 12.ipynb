{
 "cells": [
  {
   "cell_type": "code",
   "execution_count": null,
   "id": "2b60ab03",
   "metadata": {},
   "outputs": [],
   "source": [
    "Q1. Does assigning a value to a string's indexed character violate Python's string immutability ?"
   ]
  },
  {
   "cell_type": "code",
   "execution_count": null,
   "id": "36808db3",
   "metadata": {},
   "outputs": [],
   "source": [
    "String’s indexed character cannot to be assigned a New value , as Strings are immutable.\n",
    "Example:\n",
    "name = \"Reinforcement\"\n",
    "print(id(name)) #73472\n",
    "name[0] = \"V\" # Raises TypeError"
   ]
  },
  {
   "cell_type": "code",
   "execution_count": null,
   "id": "9b29e891",
   "metadata": {},
   "outputs": [],
   "source": [
    "Q2. Does using the += operator to concatenate strings violate Python's string immutability? Why or why not ?"
   ]
  },
  {
   "cell_type": "code",
   "execution_count": null,
   "id": "d2dea403",
   "metadata": {},
   "outputs": [],
   "source": [
    "+= operator is used to concatenate strings, it does not violate Python’s string immutability Property. \n",
    "Because doing so new creates a new association with data and variable. E.g. str_1=\"a\" and str_1+=\"b. effect of \n",
    "this statements to create string ab and reassign it to variable str_1, any string data is not actually modified."
   ]
  },
  {
   "cell_type": "code",
   "execution_count": 1,
   "id": "44f4ea90",
   "metadata": {},
   "outputs": [
    {
     "name": "stdout",
     "output_type": "stream",
     "text": [
      "1699530725168\n",
      "1699611137584\n"
     ]
    }
   ],
   "source": [
    "str_1 = 'a'\n",
    "print(id(str_1))\n",
    "str_1 += 'b'\n",
    "print(id(str_1))"
   ]
  },
  {
   "cell_type": "code",
   "execution_count": null,
   "id": "e3cfd900",
   "metadata": {},
   "outputs": [],
   "source": [
    "Q3. In Python, how many different ways are there to index a character?"
   ]
  },
  {
   "cell_type": "code",
   "execution_count": null,
   "id": "5def276a",
   "metadata": {},
   "outputs": [],
   "source": [
    "A Character in string can be indexed using string name followed by index number of character in square bracket.\n",
    "Positive Indexing i.e. first index is 0 an so on, or Negative Indexing i.e. last letter is -1 and so on can be used\n",
    "to index a character"
   ]
  },
  {
   "cell_type": "code",
   "execution_count": 2,
   "id": "390ecd7c",
   "metadata": {},
   "outputs": [
    {
     "name": "stdout",
     "output_type": "stream",
     "text": [
      "u l e\n",
      "e i c\n"
     ]
    }
   ],
   "source": [
    "in_string = \"iNeuron Full Stack Data Science\"\n",
    "print(in_string[9],in_string[10],in_string[2]) \n",
    "print(in_string[-1],in_string[-5],in_string[-2])"
   ]
  },
  {
   "cell_type": "code",
   "execution_count": null,
   "id": "5edb9d57",
   "metadata": {},
   "outputs": [],
   "source": [
    "Q4. What is the relationship between indexing and slicing?"
   ]
  },
  {
   "cell_type": "code",
   "execution_count": null,
   "id": "b8f7104a",
   "metadata": {},
   "outputs": [],
   "source": [
    "We can access elements of sequence datatypes by using slicing and indexing. \n",
    "Indexing is used to obtaining individual element while slicing for sequence of elements."
   ]
  },
  {
   "cell_type": "code",
   "execution_count": 3,
   "id": "b7ccd7f8",
   "metadata": {},
   "outputs": [
    {
     "name": "stdout",
     "output_type": "stream",
     "text": [
      "N u o\n",
      "Neuron Full St\n"
     ]
    }
   ],
   "source": [
    "in_string = \"iNeuron Full Stack Data Science\"\n",
    "print(in_string[1],in_string[3],in_string[5])\n",
    "print(in_string[1:15])"
   ]
  },
  {
   "cell_type": "code",
   "execution_count": null,
   "id": "ac1845f2",
   "metadata": {},
   "outputs": [],
   "source": [
    "Q5. What is an indexed character's exact data type? What is the data form of a slicing-generated substring?"
   ]
  },
  {
   "cell_type": "code",
   "execution_count": null,
   "id": "af4d1a75",
   "metadata": {},
   "outputs": [],
   "source": [
    " Indexed characters and sliced substrings have datatype String."
   ]
  },
  {
   "cell_type": "code",
   "execution_count": 4,
   "id": "81f30694",
   "metadata": {},
   "outputs": [
    {
     "name": "stdout",
     "output_type": "stream",
     "text": [
      "<class 'str'>\n",
      "<class 'str'>\n"
     ]
    }
   ],
   "source": [
    "in_string = \"iNeuron Full Stack Data Science\"\n",
    "print(type(in_string[3]))\n",
    "print(type(in_string[1:10])) "
   ]
  },
  {
   "cell_type": "code",
   "execution_count": null,
   "id": "179d6e94",
   "metadata": {},
   "outputs": [],
   "source": [
    "Q6. What is the relationship between string and character \"types\" in Python?"
   ]
  },
  {
   "cell_type": "code",
   "execution_count": null,
   "id": "32c6e56d",
   "metadata": {},
   "outputs": [],
   "source": [
    "Object that contains sequence of character datatypes are called String."
   ]
  },
  {
   "cell_type": "code",
   "execution_count": null,
   "id": "2cf84d97",
   "metadata": {},
   "outputs": [],
   "source": [
    "Q7. Identify at least two operators & one method that allow you to combine one or more smaller strings to \n",
    "create a larger string ?"
   ]
  },
  {
   "cell_type": "code",
   "execution_count": null,
   "id": "f83231cf",
   "metadata": {},
   "outputs": [],
   "source": [
    "+, += and * allow to combine one or more smaller strings to create a larger string. \n",
    "<string>.join(<sep>) method joins element of iterable type like list and tuple to get a combined string."
   ]
  },
  {
   "cell_type": "code",
   "execution_count": 5,
   "id": "1192e9d6",
   "metadata": {},
   "outputs": [
    {
     "name": "stdout",
     "output_type": "stream",
     "text": [
      "iNeuron Full Stack Data Science FSDS\n",
      "FSDS FSDS FSDS \n",
      "I N E U R O N\n",
      "i n e u r o n\n"
     ]
    }
   ],
   "source": [
    "in_string = 'iNeuron '\n",
    "in_string += 'Full Stack Data Science'\n",
    "print(in_string + ' FSDS')\n",
    "print('FSDS '*3)\n",
    "print(\" \".join(['I','N','E','U','R','O','N']))\n",
    "print(\" \".join(('I','N','E','U','R','O','N')).lower())"
   ]
  },
  {
   "cell_type": "code",
   "execution_count": null,
   "id": "697b2066",
   "metadata": {},
   "outputs": [],
   "source": [
    "Q8. What is the benefit of first checking the target string with in or not in before using the index method to \n",
    "find a substring ?"
   ]
  },
  {
   "cell_type": "code",
   "execution_count": null,
   "id": "d53d4295",
   "metadata": {},
   "outputs": [],
   "source": [
    "Checking the target string with in or not Operators before using the index method to find a substring just helps\n",
    "confirming availability of substring and thus avoid raising of ValueError.\n",
    "Example:\n",
    "in_string = \"ineuron\"\n",
    "in_string.index('x') # Raises ValueError\n",
    "in_string.index('u') # 3"
   ]
  },
  {
   "cell_type": "code",
   "execution_count": null,
   "id": "33bf553d",
   "metadata": {},
   "outputs": [],
   "source": [
    "Q9. Which operators and built-in string methods produce simple Boolean (true/false) results?"
   ]
  },
  {
   "cell_type": "code",
   "execution_count": null,
   "id": "8fc4d7c8",
   "metadata": {},
   "outputs": [],
   "source": [
    "The String Operators and built-in methods to Produce Simple Boolean (True/False) Results are:\n",
    "\n",
    "in\n",
    "not\n",
    "<string>.isalpha()\n",
    "<string>.isalnum()\n",
    "<string>.isdecimal()\n",
    "<string>.isdigit()\n",
    "<string>.islower()\n",
    "<string>.isnumeric()\n",
    "<string>.isprintable()\n",
    "<string>.isspace()\n",
    "<string>.istitle()"
   ]
  }
 ],
 "metadata": {
  "kernelspec": {
   "display_name": "Python 3 (ipykernel)",
   "language": "python",
   "name": "python3"
  },
  "language_info": {
   "codemirror_mode": {
    "name": "ipython",
    "version": 3
   },
   "file_extension": ".py",
   "mimetype": "text/x-python",
   "name": "python",
   "nbconvert_exporter": "python",
   "pygments_lexer": "ipython3",
   "version": "3.9.12"
  }
 },
 "nbformat": 4,
 "nbformat_minor": 5
}
